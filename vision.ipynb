{
 "cells": [
  {
   "cell_type": "code",
   "execution_count": 1,
   "metadata": {},
   "outputs": [],
   "source": [
    "from module_vision import label_image, client\n",
    "\n",
    "import io\n",
    "import os\n",
    "\n",
    "# Imports the Google Cloud client library\n",
    "from google.cloud import vision\n",
    "from google.cloud.vision import types\n",
    "\n",
    "from module_vision import label_to_dict"
   ]
  },
  {
   "cell_type": "code",
   "execution_count": 2,
   "metadata": {},
   "outputs": [],
   "source": [
    "img_path = '/home/sen/Dropbox/Photos/IMG_1884.JPG'"
   ]
  },
  {
   "cell_type": "code",
   "execution_count": 7,
   "metadata": {},
   "outputs": [],
   "source": [
    "label_types = ['label', 'object', 'web', 'face']\n",
    "label_type = 'web'"
   ]
  },
  {
   "cell_type": "code",
   "execution_count": 7,
   "metadata": {},
   "outputs": [],
   "source": [
    "labels = label_image(client, img_path, label_type=label_type)"
   ]
  },
  {
   "cell_type": "code",
   "execution_count": 8,
   "metadata": {},
   "outputs": [
    {
     "data": {
      "text/plain": [
       "{'webEntities': [{'entityId': '/m/01jwgf',\n",
       "   'score': 0.25112685561180115,\n",
       "   'description': 'Product'}],\n",
       " 'visuallySimilarImages': [{'url': 'https://pbs.twimg.com/media/DkfDX2jX0AEq67w.jpg'},\n",
       "  {'url': 'https://media.gettyimages.com/photos/couple-watching-tv-man-using-remote-control-woman-holding-tea-cup-picture-id200552579-004'},\n",
       "  {'url': 'https://thumbs.dreamstime.com/b/young-beautiful-female-barista-posing-smile-istanbul-turkey-september-young-beautiful-female-barista-posing-smile-100969697.jpg'},\n",
       "  {'url': 'https://knkontour.files.wordpress.com/2014/10/image263.jpg'},\n",
       "  {'url': 'https://thumbs.dreamstime.com/b/young-beautiful-female-barista-posing-smile-istanbul-turkey-september-young-beautiful-female-barista-posing-smile-100969712.jpg'},\n",
       "  {'url': 'https://cdn9.dissolve.com/p/D943_41_807/D943_41_807_1200.jpg'},\n",
       "  {'url': 'https://thumbs.dreamstime.com/b/woman-auto-repair-shop-10344748.jpg'},\n",
       "  {'url': 'https://i.pinimg.com/474x/f4/90/a5/f490a557e6cd8252e66b37d8474003c2.jpg'},\n",
       "  {'url': 'https://patch.com/img/cdn/users/21821499/2015/04/raw/2015045542460bbb785.JPG'},\n",
       "  {'url': 'https://media.istockphoto.com/photos/young-beautiful-woman-enjoying-breakfast-on-the-rooftop-terrace-picture-id961168044?k=6&m=961168044&s=170667a&w=0&h=TxzLxQW3JwZh_M2EyWr9jZXPidc_ItXU9nbk7ITT1lw='}],\n",
       " 'bestGuessLabels': [{'label': 'woman'}]}"
      ]
     },
     "execution_count": 8,
     "metadata": {},
     "output_type": "execute_result"
    }
   ],
   "source": [
    "label_to_dict(labels, label_type=label_type)"
   ]
  },
  {
   "cell_type": "code",
   "execution_count": 9,
   "metadata": {},
   "outputs": [
    {
     "data": {
      "text/plain": [
       "web_entities {\n",
       "  entity_id: \"/m/01jwgf\"\n",
       "  score: 0.25112685561180115\n",
       "  description: \"Product\"\n",
       "}\n",
       "visually_similar_images {\n",
       "  url: \"https://pbs.twimg.com/media/DkfDX2jX0AEq67w.jpg\"\n",
       "}\n",
       "visually_similar_images {\n",
       "  url: \"https://media.gettyimages.com/photos/couple-watching-tv-man-using-remote-control-woman-holding-tea-cup-picture-id200552579-004\"\n",
       "}\n",
       "visually_similar_images {\n",
       "  url: \"https://thumbs.dreamstime.com/b/young-beautiful-female-barista-posing-smile-istanbul-turkey-september-young-beautiful-female-barista-posing-smile-100969697.jpg\"\n",
       "}\n",
       "visually_similar_images {\n",
       "  url: \"https://knkontour.files.wordpress.com/2014/10/image263.jpg\"\n",
       "}\n",
       "visually_similar_images {\n",
       "  url: \"https://thumbs.dreamstime.com/b/young-beautiful-female-barista-posing-smile-istanbul-turkey-september-young-beautiful-female-barista-posing-smile-100969712.jpg\"\n",
       "}\n",
       "visually_similar_images {\n",
       "  url: \"https://cdn9.dissolve.com/p/D943_41_807/D943_41_807_1200.jpg\"\n",
       "}\n",
       "visually_similar_images {\n",
       "  url: \"https://thumbs.dreamstime.com/b/woman-auto-repair-shop-10344748.jpg\"\n",
       "}\n",
       "visually_similar_images {\n",
       "  url: \"https://i.pinimg.com/474x/f4/90/a5/f490a557e6cd8252e66b37d8474003c2.jpg\"\n",
       "}\n",
       "visually_similar_images {\n",
       "  url: \"https://patch.com/img/cdn/users/21821499/2015/04/raw/2015045542460bbb785.JPG\"\n",
       "}\n",
       "visually_similar_images {\n",
       "  url: \"https://media.istockphoto.com/photos/young-beautiful-woman-enjoying-breakfast-on-the-rooftop-terrace-picture-id961168044?k=6&m=961168044&s=170667a&w=0&h=TxzLxQW3JwZh_M2EyWr9jZXPidc_ItXU9nbk7ITT1lw=\"\n",
       "}\n",
       "best_guess_labels {\n",
       "  label: \"woman\"\n",
       "}"
      ]
     },
     "execution_count": 9,
     "metadata": {},
     "output_type": "execute_result"
    }
   ],
   "source": [
    "labels"
   ]
  },
  {
   "cell_type": "markdown",
   "metadata": {},
   "source": [
    "# show imgs"
   ]
  },
  {
   "cell_type": "code",
   "execution_count": 10,
   "metadata": {},
   "outputs": [],
   "source": [
    "from IPython.display import Image"
   ]
  },
  {
   "cell_type": "raw",
   "metadata": {},
   "source": [
    "Image(img_path)"
   ]
  },
  {
   "cell_type": "code",
   "execution_count": null,
   "metadata": {},
   "outputs": [],
   "source": []
  }
 ],
 "metadata": {
  "kernelspec": {
   "display_name": "cloud",
   "language": "python",
   "name": "cloud"
  },
  "language_info": {
   "codemirror_mode": {
    "name": "ipython",
    "version": 3
   },
   "file_extension": ".py",
   "mimetype": "text/x-python",
   "name": "python",
   "nbconvert_exporter": "python",
   "pygments_lexer": "ipython3",
   "version": "3.6.8"
  }
 },
 "nbformat": 4,
 "nbformat_minor": 2
}
