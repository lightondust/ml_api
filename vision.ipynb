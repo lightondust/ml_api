{
 "cells": [
  {
   "cell_type": "code",
   "execution_count": 3,
   "metadata": {},
   "outputs": [],
   "source": [
    "from module_vision import label_image, client\n",
    "\n",
    "import io\n",
    "import os\n",
    "\n",
    "# Imports the Google Cloud client library\n",
    "from google.cloud import vision\n",
    "from google.cloud.vision import types\n",
    "\n",
    "from module_vision import label_to_dict"
   ]
  },
  {
   "cell_type": "code",
   "execution_count": 4,
   "metadata": {},
   "outputs": [],
   "source": [
    "img_path = '/home/sen/Dropbox/Photos/IMG_1884.JPG'"
   ]
  },
  {
   "cell_type": "code",
   "execution_count": 5,
   "metadata": {},
   "outputs": [],
   "source": [
    "label_types = ['label', 'object', 'web', 'face']\n",
    "label_type = 'web'"
   ]
  },
  {
   "cell_type": "code",
   "execution_count": 6,
   "metadata": {},
   "outputs": [],
   "source": [
    "labels = label_image(client, img_path, label_type=label_type)"
   ]
  },
  {
   "cell_type": "code",
   "execution_count": 7,
   "metadata": {},
   "outputs": [
    {
     "data": {
      "text/plain": [
       "{'webEntities': [{'entityId': '/m/01jwgf',\n",
       "   'score': 0.24907894432544708,\n",
       "   'description': 'Product'}],\n",
       " 'visuallySimilarImages': [{'url': 'https://pbs.twimg.com/media/DkfDX2jX0AEq67w.jpg'},\n",
       "  {'url': 'https://scontent-lga3-1.cdninstagram.com/vp/fd66dadfaf22a8777703e8d280567355/5D39464E/t51.2885-15/sh0.08/e35/s750x750/54511615_2243717235883242_7603455008651213640_n.jpg?_nc_ht=scontent-lga3-1.cdninstagram.com&ig_cache_key=MjAxOTY1OTkwODY2NTcyNjc4Mw%3D%3D.2'},\n",
       "  {'url': 'https://media.gettyimages.com/photos/pregnant-woman-with-her-family-talking-to-a-doctor-at-the-hospital-picture-id1157264065?s=612x612'},\n",
       "  {'url': 'https://thumbs.dreamstime.com/b/young-beautiful-female-barista-posing-smile-istanbul-turkey-september-young-beautiful-female-barista-posing-smile-100969697.jpg'},\n",
       "  {'url': 'https://media.gettyimages.com/photos/couple-watching-tv-man-using-remote-control-woman-holding-tea-cup-picture-id200552579-004'},\n",
       "  {'url': 'https://www.petakids.com/wp-content/uploads/2019/01/lolas-newspaper.jpg'},\n",
       "  {'url': 'https://thumbs.dreamstime.com/b/young-beautiful-female-barista-posing-smile-istanbul-turkey-september-young-beautiful-female-barista-posing-smile-100969712.jpg'},\n",
       "  {'url': 'https://media.gettyimages.com/photos/consultantorthopedist-helps-the-girl-to-choose-a-mattress-in-the-he-picture-id857434000'},\n",
       "  {'url': 'https://previews.123rf.com/images/auremar/auremar1110/auremar111001863/11176021-nice-man-and-woman-working-in-an-office.jpg'},\n",
       "  {'url': 'https://previews.123rf.com/images/leszekglasner/leszekglasner1709/leszekglasner170900012/85162052-relaxed-smiling-woman-reading-book-in-cafe-at-shopping-mall.jpg'}],\n",
       " 'bestGuessLabels': [{'label': 'woman'}]}"
      ]
     },
     "execution_count": 7,
     "metadata": {},
     "output_type": "execute_result"
    }
   ],
   "source": [
    "label_to_dict(labels, label_type=label_type)"
   ]
  },
  {
   "cell_type": "code",
   "execution_count": 8,
   "metadata": {},
   "outputs": [
    {
     "data": {
      "text/plain": [
       "web_entities {\n",
       "  entity_id: \"/m/01jwgf\"\n",
       "  score: 0.24907894432544708\n",
       "  description: \"Product\"\n",
       "}\n",
       "visually_similar_images {\n",
       "  url: \"https://pbs.twimg.com/media/DkfDX2jX0AEq67w.jpg\"\n",
       "}\n",
       "visually_similar_images {\n",
       "  url: \"https://scontent-lga3-1.cdninstagram.com/vp/fd66dadfaf22a8777703e8d280567355/5D39464E/t51.2885-15/sh0.08/e35/s750x750/54511615_2243717235883242_7603455008651213640_n.jpg?_nc_ht=scontent-lga3-1.cdninstagram.com&ig_cache_key=MjAxOTY1OTkwODY2NTcyNjc4Mw%3D%3D.2\"\n",
       "}\n",
       "visually_similar_images {\n",
       "  url: \"https://media.gettyimages.com/photos/pregnant-woman-with-her-family-talking-to-a-doctor-at-the-hospital-picture-id1157264065?s=612x612\"\n",
       "}\n",
       "visually_similar_images {\n",
       "  url: \"https://thumbs.dreamstime.com/b/young-beautiful-female-barista-posing-smile-istanbul-turkey-september-young-beautiful-female-barista-posing-smile-100969697.jpg\"\n",
       "}\n",
       "visually_similar_images {\n",
       "  url: \"https://media.gettyimages.com/photos/couple-watching-tv-man-using-remote-control-woman-holding-tea-cup-picture-id200552579-004\"\n",
       "}\n",
       "visually_similar_images {\n",
       "  url: \"https://www.petakids.com/wp-content/uploads/2019/01/lolas-newspaper.jpg\"\n",
       "}\n",
       "visually_similar_images {\n",
       "  url: \"https://thumbs.dreamstime.com/b/young-beautiful-female-barista-posing-smile-istanbul-turkey-september-young-beautiful-female-barista-posing-smile-100969712.jpg\"\n",
       "}\n",
       "visually_similar_images {\n",
       "  url: \"https://media.gettyimages.com/photos/consultantorthopedist-helps-the-girl-to-choose-a-mattress-in-the-he-picture-id857434000\"\n",
       "}\n",
       "visually_similar_images {\n",
       "  url: \"https://previews.123rf.com/images/auremar/auremar1110/auremar111001863/11176021-nice-man-and-woman-working-in-an-office.jpg\"\n",
       "}\n",
       "visually_similar_images {\n",
       "  url: \"https://previews.123rf.com/images/leszekglasner/leszekglasner1709/leszekglasner170900012/85162052-relaxed-smiling-woman-reading-book-in-cafe-at-shopping-mall.jpg\"\n",
       "}\n",
       "best_guess_labels {\n",
       "  label: \"woman\"\n",
       "}"
      ]
     },
     "execution_count": 8,
     "metadata": {},
     "output_type": "execute_result"
    }
   ],
   "source": [
    "labels"
   ]
  },
  {
   "cell_type": "markdown",
   "metadata": {},
   "source": [
    "# show imgs"
   ]
  },
  {
   "cell_type": "code",
   "execution_count": 10,
   "metadata": {},
   "outputs": [],
   "source": [
    "from IPython.display import Image"
   ]
  },
  {
   "cell_type": "raw",
   "metadata": {},
   "source": [
    "Image(img_path)"
   ]
  },
  {
   "cell_type": "code",
   "execution_count": null,
   "metadata": {},
   "outputs": [],
   "source": []
  }
 ],
 "metadata": {
  "kernelspec": {
   "display_name": "cloud",
   "language": "python",
   "name": "cloud"
  },
  "language_info": {
   "codemirror_mode": {
    "name": "ipython",
    "version": 3
   },
   "file_extension": ".py",
   "mimetype": "text/x-python",
   "name": "python",
   "nbconvert_exporter": "python",
   "pygments_lexer": "ipython3",
   "version": "3.6.8"
  }
 },
 "nbformat": 4,
 "nbformat_minor": 2
}
